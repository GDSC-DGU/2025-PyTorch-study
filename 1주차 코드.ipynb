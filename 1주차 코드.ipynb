{
  "nbformat": 4,
  "nbformat_minor": 0,
  "metadata": {
    "colab": {
      "provenance": [],
      "gpuType": "T4"
    },
    "kernelspec": {
      "name": "python3",
      "display_name": "Python 3"
    },
    "language_info": {
      "name": "python"
    },
    "accelerator": "GPU"
  },
  "cells": [
    {
      "cell_type": "code",
      "execution_count": 1,
      "metadata": {
        "id": "_VrBG6bzI-SH"
      },
      "outputs": [],
      "source": [
        "import torch"
      ]
    },
    {
      "cell_type": "code",
      "source": [
        "print(torch.__version__)\n",
        "print(torch.cuda.is_available)"
      ],
      "metadata": {
        "colab": {
          "base_uri": "https://localhost:8080/"
        },
        "id": "rZppTyHmJEud",
        "outputId": "6ab413ea-e471-4619-ade0-85946f1f2201"
      },
      "execution_count": 2,
      "outputs": [
        {
          "output_type": "stream",
          "name": "stdout",
          "text": [
            "2.5.1+cu124\n",
            "<function is_available at 0x796b2c90c540>\n"
          ]
        }
      ]
    },
    {
      "cell_type": "markdown",
      "source": [
        "### 단순 선형 회귀: 파이토치"
      ],
      "metadata": {
        "id": "JtMD96eNJ0hW"
      }
    },
    {
      "cell_type": "code",
      "source": [
        "from torch import optim # 최적화 함수 쓰는 거"
      ],
      "metadata": {
        "id": "apYz0JWQJX3x"
      },
      "execution_count": 3,
      "outputs": []
    },
    {
      "cell_type": "code",
      "source": [
        "#\n",
        "x = torch.FloatTensor([\n",
        "    [1], [2], [3], [4], [5], [6], [7], [8], [9], [10],\n",
        "    [11], [12], [13], [14], [15], [16], [17], [18], [19], [20],\n",
        "    [21], [22], [23], [24], [25], [26], [27], [28], [29], [30]\n",
        "])\n",
        "\n",
        "y = torch.FloatTensor([\n",
        "    [0.94], [1.98], [2.88], [3.92], [3.96], [4.55], [5.64], [6.3], [7.44], [9.1],\n",
        "    [8.46], [9.5], [10.67], [11.16], [14], [11.83], [14.4], [14.25], [16.2], [16.32],\n",
        "    [17.46], [19.8], [18], [21.34], [22], [22.5], [24.57], [26.04], [21.6], [28.8]\n",
        "])\n"
      ],
      "metadata": {
        "id": "_vG25xGwJ6B4"
      },
      "execution_count": 4,
      "outputs": []
    },
    {
      "cell_type": "code",
      "source": [
        "# 하이퍼 파라미터 초기화\n",
        "\n",
        "weight = torch.zeros(1, requires_grad=True)\n",
        "bias = torch.zeros(1, requires_grad=True) #requires_grad = 모든 텐서에 댛ㄴ 연산을 추적하며 역전파 메서드를 호출해 기울기를 계산하고 저장\n",
        "learning_rate = 0.001"
      ],
      "metadata": {
        "id": "yfeacHI2K8nb"
      },
      "execution_count": 6,
      "outputs": []
    },
    {
      "cell_type": "code",
      "source": [
        "optimizer = optim.SGD([weight, bias], lr=learning_rate) #SGD = 미니 배치의 형태로 전체 데이터를 N등분하여 학습을 진행"
      ],
      "metadata": {
        "id": "3WcmOXJ2LYb6"
      },
      "execution_count": 7,
      "outputs": []
    },
    {
      "cell_type": "code",
      "source": [
        "# 에폭,가설, 손실함수 선언\n",
        "\n",
        "for epoch in range(10000):\n",
        "    hypothesis = x * weight + bias\n",
        "    cost = torch.mean((hypothesis - y) ** 2)"
      ],
      "metadata": {
        "id": "6F6c1xO9LnIU"
      },
      "execution_count": 10,
      "outputs": []
    },
    {
      "cell_type": "code",
      "source": [],
      "metadata": {
        "id": "NPI3vK_OL4l3"
      },
      "execution_count": null,
      "outputs": []
    }
  ]
}