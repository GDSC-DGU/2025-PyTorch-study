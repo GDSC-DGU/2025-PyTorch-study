{
 "cells": [
  {
   "cell_type": "code",
   "execution_count": 1,
   "metadata": {},
   "outputs": [
    {
     "name": "stderr",
     "output_type": "stream",
     "text": [
      "/home/teom142/.conda/envs/pytorch_study/lib/python3.10/site-packages/tqdm/auto.py:21: TqdmWarning: IProgress not found. Please update jupyter and ipywidgets. See https://ipywidgets.readthedocs.io/en/stable/user_install.html\n",
      "  from .autonotebook import tqdm as notebook_tqdm\n",
      "/home/teom142/.conda/envs/pytorch_study/lib/python3.10/site-packages/huggingface_hub/file_download.py:797: FutureWarning: `resume_download` is deprecated and will be removed in version 1.0.0. Downloads always resume when possible. If you want to force a new download, use `force_download=True`.\n",
      "  warnings.warn(\n"
     ]
    },
    {
     "name": "stdout",
     "output_type": "stream",
     "text": [
      "src : Those who can imagine anything, can create the impossible.\n",
      "dst : and those who try can imagine anything, can only create all the impossible.\n",
      "------------------\n",
      "src : We can only see a short distance ahead, but we can see plenty there that needs to be done.\n",
      "dst : we can only partly see a very short safe distance down ahead, but we probably can see others plenty there that needs healing to be done.\n",
      "------------------\n",
      "src : If a machine is expected to be infallible, it cannot also be intelligent.\n",
      "dst : if a machine there is expected so to generally be not infallible, since it cannot also easily be intelligent.\n",
      "------------------\n"
     ]
    }
   ],
   "source": [
    "import nlpaug.augmenter.word as naw\n",
    "\n",
    "\n",
    "texts = [\n",
    "    \"Those who can imagine anything, can create the impossible.\",\n",
    "    \"We can only see a short distance ahead, but we can see plenty there that needs to be done.\",\n",
    "    \"If a machine is expected to be infallible, it cannot also be intelligent.\",\n",
    "]\n",
    "\n",
    "aug = naw.ContextualWordEmbsAug(model_path=\"bert-base-uncased\", action=\"insert\")\n",
    "augmented_texts = aug.augment(texts)\n",
    "\n",
    "for text, augmented in zip(texts, augmented_texts):\n",
    "    print(f\"src : {text}\")\n",
    "    print(f\"dst : {augmented}\")\n",
    "    print(\"------------------\")"
   ]
  },
  {
   "cell_type": "code",
   "execution_count": 2,
   "metadata": {},
   "outputs": [
    {
     "name": "stdout",
     "output_type": "stream",
     "text": [
      "src : 텍스트 데이터를 삽입, 대체, 수정, 삭제할 수 있습니다.\n",
      "dst : 2008 텍스트 [UNK] 데이터를 2010 삽입, 1997 대체, 2005 수정, 2014 삭제할 [UNK] 수 │ [UNK].\n",
      "------------------\n",
      "src : V0의 시스템 프롬프트가 공개되면서 프롬프트 엔지니어링의 중요성과 그 기준이 재조명되고 있다.\n",
      "dst : ！ v0의 ॥ 시스템 、 프롬프트가 [UNK] [UNK] ！ 프롬프트 엔지니어링의 ！ 중요성과 ！ 그 ་ 기준이 ་ [UNK] 。 [UNK].\n",
      "------------------\n",
      "src : 특히, 시스템 프롬프트의 길이가 길어질수록 지침이 준수되지 않을 가능성이 높다는 지적이 나오고 있다.\n",
      "dst : • 특히, 『 시스템 ، 프롬프트의 길이가 → 길어질수록 · 지침이 nguyen [UNK] 。 [UNK] 1 가능성이 [UNK]... 지적이 나오고 [UNK] [UNK].\n",
      "------------------\n"
     ]
    }
   ],
   "source": [
    "import nlpaug.augmenter.word as naw\n",
    "\n",
    "\n",
    "texts = [\n",
    "    \"텍스트 데이터를 삽입, 대체, 수정, 삭제할 수 있습니다.\",\n",
    "    \"V0의 시스템 프롬프트가 공개되면서 프롬프트 엔지니어링의 중요성과 그 기준이 재조명되고 있다.\",\"특히, 시스템 프롬프트의 길이가 길어질수록 지침이 준수되지 않을 가능성이 높다는 지적이 나오고 있다.\",\n",
    "]\n",
    "\n",
    "aug = naw.ContextualWordEmbsAug(model_path=\"bert-base-uncased\", action=\"insert\")\n",
    "augmented_texts = aug.augment(texts)\n",
    "\n",
    "for text, augmented in zip(texts, augmented_texts):\n",
    "    print(f\"src : {text}\")\n",
    "    print(f\"dst : {augmented}\")\n",
    "    print(\"------------------\")"
   ]
  },
  {
   "cell_type": "code",
   "execution_count": null,
   "metadata": {},
   "outputs": [],
   "source": []
  }
 ],
 "metadata": {
  "kernelspec": {
   "display_name": "pytorch_study",
   "language": "python",
   "name": "python3"
  },
  "language_info": {
   "codemirror_mode": {
    "name": "ipython",
    "version": 3
   },
   "file_extension": ".py",
   "mimetype": "text/x-python",
   "name": "python",
   "nbconvert_exporter": "python",
   "pygments_lexer": "ipython3",
   "version": "3.10.16"
  }
 },
 "nbformat": 4,
 "nbformat_minor": 2
}
