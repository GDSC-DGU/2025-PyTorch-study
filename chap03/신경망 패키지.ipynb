{
 "cells": [
  {
   "cell_type": "code",
   "execution_count": 3,
   "metadata": {},
   "outputs": [],
   "source": [
    "import torch\n",
    "from torch import nn\n",
    "from torch import optim"
   ]
  },
  {
   "cell_type": "code",
   "execution_count": 4,
   "metadata": {},
   "outputs": [],
   "source": [
    "x = torch.FloatTensor([\n",
    "    [1], [2], [3], [4], [5], [6], [7], [8], [9], [10],\n",
    "    [11], [12], [13], [14], [15], [16], [17], [18], [19], [20],\n",
    "    [21], [22], [23], [24], [25], [26], [27], [28], [29], [30]\n",
    "])\n",
    "y = torch.FloatTensor([\n",
    "    [0.94], [1.98], [2.88], [3.92], [3.96], [4.55], [5.64], [6.3], [7.44], [9.1],\n",
    "    [8.46], [9.5], [10.67], [11.16], [14], [11.83], [14.4], [14.25], [16.2], [16.32],\n",
    "    [17.46], [19.8], [18], [21.34], [22], [22.5], [24.57], [26.04], [21.6], [28.8]\n",
    "])"
   ]
  },
  {
   "cell_type": "code",
   "execution_count": 7,
   "metadata": {},
   "outputs": [],
   "source": [
    "# 모델 선언\n",
    "model = nn.Linear(1, 1)\n",
    "criterion = nn.MSELoss()\n",
    "optimizer = optim.SGD(model.parameters(), lr=0.001)"
   ]
  },
  {
   "cell_type": "code",
   "execution_count": 8,
   "metadata": {},
   "outputs": [
    {
     "name": "stdout",
     "output_type": "stream",
     "text": [
      "Epoch : 1000, Model : [Parameter containing:\n",
      "tensor([[0.8930]], requires_grad=True), Parameter containing:\n",
      "tensor([-0.7223], requires_grad=True)], Cost : 1.392\n",
      "Epoch : 2000, Model : [Parameter containing:\n",
      "tensor([[0.8877]], requires_grad=True), Parameter containing:\n",
      "tensor([-0.6141], requires_grad=True)], Cost : 1.380\n",
      "Epoch : 3000, Model : [Parameter containing:\n",
      "tensor([[0.8844]], requires_grad=True), Parameter containing:\n",
      "tensor([-0.5468], requires_grad=True)], Cost : 1.375\n",
      "Epoch : 4000, Model : [Parameter containing:\n",
      "tensor([[0.8823]], requires_grad=True), Parameter containing:\n",
      "tensor([-0.5049], requires_grad=True)], Cost : 1.373\n",
      "Epoch : 5000, Model : [Parameter containing:\n",
      "tensor([[0.8810]], requires_grad=True), Parameter containing:\n",
      "tensor([-0.4789], requires_grad=True)], Cost : 1.373\n",
      "Epoch : 6000, Model : [Parameter containing:\n",
      "tensor([[0.8802]], requires_grad=True), Parameter containing:\n",
      "tensor([-0.4626], requires_grad=True)], Cost : 1.372\n",
      "Epoch : 7000, Model : [Parameter containing:\n",
      "tensor([[0.8797]], requires_grad=True), Parameter containing:\n",
      "tensor([-0.4526], requires_grad=True)], Cost : 1.372\n",
      "Epoch : 8000, Model : [Parameter containing:\n",
      "tensor([[0.8794]], requires_grad=True), Parameter containing:\n",
      "tensor([-0.4463], requires_grad=True)], Cost : 1.372\n",
      "Epoch : 9000, Model : [Parameter containing:\n",
      "tensor([[0.8792]], requires_grad=True), Parameter containing:\n",
      "tensor([-0.4424], requires_grad=True)], Cost : 1.372\n",
      "Epoch : 10000, Model : [Parameter containing:\n",
      "tensor([[0.8791]], requires_grad=True), Parameter containing:\n",
      "tensor([-0.4399], requires_grad=True)], Cost : 1.372\n"
     ]
    }
   ],
   "source": [
    "for epoch in range(10000):\n",
    "    output = model(x)\n",
    "    cost = criterion(output, y)\n",
    "\n",
    "    optimizer.zero_grad()\n",
    "    cost.backward()\n",
    "    optimizer.step()\n",
    "\n",
    "    if (epoch + 1) % 1000 == 0:\n",
    "        print(f\"Epoch : {epoch+1:4d}, Model : {list(model.parameters())}, Cost : {cost:.3f}\")"
   ]
  },
  {
   "cell_type": "code",
   "execution_count": null,
   "metadata": {},
   "outputs": [],
   "source": []
  }
 ],
 "metadata": {
  "kernelspec": {
   "display_name": "pytorch_study",
   "language": "python",
   "name": "python3"
  },
  "language_info": {
   "codemirror_mode": {
    "name": "ipython",
    "version": 3
   },
   "file_extension": ".py",
   "mimetype": "text/x-python",
   "name": "python",
   "nbconvert_exporter": "python",
   "pygments_lexer": "ipython3",
   "version": "3.10.16"
  }
 },
 "nbformat": 4,
 "nbformat_minor": 2
}
