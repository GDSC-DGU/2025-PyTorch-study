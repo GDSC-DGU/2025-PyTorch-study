{
 "cells": [
  {
   "cell_type": "code",
   "execution_count": 1,
   "metadata": {},
   "outputs": [],
   "source": [
    "import torch\n",
    "import pandas as pd\n",
    "from torch import nn\n",
    "from torch import optim\n",
    "from torch.utils.data import Dataset, DataLoader"
   ]
  },
  {
   "cell_type": "code",
   "execution_count": 2,
   "metadata": {},
   "outputs": [],
   "source": [
    "class CustomDataset(Dataset):\n",
    "    def __init__(self, file_path):\n",
    "        df = pd.read_csv(file_path)\n",
    "        self.x = df.iloc[:, 0].values\n",
    "        self.y = df.iloc[:, 1].values\n",
    "        self.length = len(df)\n",
    "\n",
    "    def __getitem__(self, index):\n",
    "        x = torch.FloatTensor([self.x[index] ** 2, self.x[index]])\n",
    "        y = torch.FloatTensor([self.y[index]])\n",
    "        return x, y\n",
    "\n",
    "    def __len__(self):\n",
    "        return self.length"
   ]
  },
  {
   "cell_type": "code",
   "execution_count": 3,
   "metadata": {},
   "outputs": [],
   "source": [
    "class CustomModel(nn.Module):\n",
    "    def __init__(self):\n",
    "        super().__init__()\n",
    "        self.layer = nn.Linear(2, 1)\n",
    "\n",
    "    def forward(self, x):\n",
    "        x = self.layer(x)\n",
    "        return x"
   ]
  },
  {
   "cell_type": "code",
   "execution_count": 4,
   "metadata": {},
   "outputs": [],
   "source": [
    "train_dataset = CustomDataset(\"../datasets/non_linear.csv\")\n",
    "train_dataloader = DataLoader(train_dataset, batch_size=128, shuffle=True, drop_last=True)"
   ]
  },
  {
   "cell_type": "code",
   "execution_count": 5,
   "metadata": {},
   "outputs": [],
   "source": [
    "device = \"cuda\" if torch.cuda.is_available() else \"cpu\"\n",
    "model = CustomModel().to(device)\n",
    "criterion = nn.MSELoss().to(device)\n",
    "optimizer = optim.SGD(model.parameters(), lr=0.0001)"
   ]
  },
  {
   "cell_type": "code",
   "execution_count": 6,
   "metadata": {},
   "outputs": [
    {
     "name": "stdout",
     "output_type": "stream",
     "text": [
      "Epoch : 1000, Model : [Parameter containing:\n",
      "tensor([[ 3.1112, -1.7011]], device='cuda:0', requires_grad=True), Parameter containing:\n",
      "tensor([-0.1632], device='cuda:0', requires_grad=True)], Cost : 0.246\n",
      "Epoch : 2000, Model : [Parameter containing:\n",
      "tensor([[ 3.1098, -1.7027]], device='cuda:0', requires_grad=True), Parameter containing:\n",
      "tensor([-0.1073], device='cuda:0', requires_grad=True)], Cost : 0.245\n",
      "Epoch : 3000, Model : [Parameter containing:\n",
      "tensor([[ 3.1092, -1.7028]], device='cuda:0', requires_grad=True), Parameter containing:\n",
      "tensor([-0.0562], device='cuda:0', requires_grad=True)], Cost : 0.215\n",
      "Epoch : 4000, Model : [Parameter containing:\n",
      "tensor([[ 3.1086, -1.7027]], device='cuda:0', requires_grad=True), Parameter containing:\n",
      "tensor([-0.0094], device='cuda:0', requires_grad=True)], Cost : 0.186\n",
      "Epoch : 5000, Model : [Parameter containing:\n",
      "tensor([[ 3.1076, -1.7028]], device='cuda:0', requires_grad=True), Parameter containing:\n",
      "tensor([0.0335], device='cuda:0', requires_grad=True)], Cost : 0.170\n",
      "Epoch : 6000, Model : [Parameter containing:\n",
      "tensor([[ 3.1069, -1.7026]], device='cuda:0', requires_grad=True), Parameter containing:\n",
      "tensor([0.0728], device='cuda:0', requires_grad=True)], Cost : 0.156\n",
      "Epoch : 7000, Model : [Parameter containing:\n",
      "tensor([[ 3.1061, -1.7027]], device='cuda:0', requires_grad=True), Parameter containing:\n",
      "tensor([0.1088], device='cuda:0', requires_grad=True)], Cost : 0.142\n",
      "Epoch : 8000, Model : [Parameter containing:\n",
      "tensor([[ 3.1058, -1.7027]], device='cuda:0', requires_grad=True), Parameter containing:\n",
      "tensor([0.1416], device='cuda:0', requires_grad=True)], Cost : 0.133\n",
      "Epoch : 9000, Model : [Parameter containing:\n",
      "tensor([[ 3.1051, -1.7032]], device='cuda:0', requires_grad=True), Parameter containing:\n",
      "tensor([0.1716], device='cuda:0', requires_grad=True)], Cost : 0.117\n",
      "Epoch : 10000, Model : [Parameter containing:\n",
      "tensor([[ 3.1047, -1.7029]], device='cuda:0', requires_grad=True), Parameter containing:\n",
      "tensor([0.1990], device='cuda:0', requires_grad=True)], Cost : 0.118\n"
     ]
    }
   ],
   "source": [
    "for epoch in range(10000):\n",
    "    cost = 0.0\n",
    "\n",
    "    for x, y in train_dataloader:\n",
    "        x = x.to(device)\n",
    "        y = y.to(device)\n",
    "\n",
    "        output = model(x)\n",
    "        loss = criterion(output, y)\n",
    "\n",
    "        optimizer.zero_grad()\n",
    "        loss.backward()\n",
    "        optimizer.step()\n",
    "\n",
    "        cost += loss\n",
    "\n",
    "    cost = cost / len(train_dataloader)\n",
    "\n",
    "    if (epoch + 1) % 1000 == 0:\n",
    "        print(f\"Epoch : {epoch+1:4d}, Model : {list(model.parameters())}, Cost : {cost:.3f}\")"
   ]
  },
  {
   "cell_type": "code",
   "execution_count": 7,
   "metadata": {},
   "outputs": [
    {
     "name": "stdout",
     "output_type": "stream",
     "text": [
      "tensor([[  1.6007],\n",
      "        [ 69.3008],\n",
      "        [357.1305]], device='cuda:0')\n"
     ]
    }
   ],
   "source": [
    "with torch.no_grad():\n",
    "    model.eval()\n",
    "    inputs = torch.FloatTensor(\n",
    "        [\n",
    "            [1 ** 2, 1],\n",
    "            [5 ** 2, 5],\n",
    "            [11 ** 2, 11]\n",
    "        ]\n",
    "    ).to(device)\n",
    "    outputs = model(inputs)\n",
    "    print(outputs)"
   ]
  },
  {
   "cell_type": "code",
   "execution_count": 9,
   "metadata": {},
   "outputs": [],
   "source": [
    "torch.save(\n",
    "    model,\n",
    "    \"../models/model.pt\"\n",
    ")"
   ]
  },
  {
   "cell_type": "code",
   "execution_count": 10,
   "metadata": {},
   "outputs": [],
   "source": [
    "torch.save(\n",
    "    model.state_dict(),\n",
    "    \"../models/model_state_dict.pt\"\n",
    ")"
   ]
  }
 ],
 "metadata": {
  "kernelspec": {
   "display_name": "Python 3",
   "language": "python",
   "name": "python3"
  },
  "language_info": {
   "codemirror_mode": {
    "name": "ipython",
    "version": 3
   },
   "file_extension": ".py",
   "mimetype": "text/x-python",
   "name": "python",
   "nbconvert_exporter": "python",
   "pygments_lexer": "ipython3",
   "version": "3.10.16"
  }
 },
 "nbformat": 4,
 "nbformat_minor": 2
}
