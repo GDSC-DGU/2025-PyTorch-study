{
 "cells": [
  {
   "cell_type": "markdown",
   "metadata": {},
   "source": [
    "---\n",
    "모델 구조 확인"
   ]
  },
  {
   "cell_type": "code",
   "execution_count": 1,
   "metadata": {},
   "outputs": [],
   "source": [
    "import torch\n",
    "from torch import nn\n",
    "\n",
    "\n",
    "class CustomModel(nn.Module):\n",
    "    pass"
   ]
  },
  {
   "cell_type": "code",
   "execution_count": 2,
   "metadata": {},
   "outputs": [
    {
     "name": "stdout",
     "output_type": "stream",
     "text": [
      "CustomModel(\n",
      "  (layer): Linear(in_features=2, out_features=1, bias=True)\n",
      ")\n"
     ]
    }
   ],
   "source": [
    "device = \"cuda\" if torch.cuda.is_available() else \"cpu\"\n",
    "model = torch.load(\"../models/model.pt\", map_location=device)\n",
    "print(model)"
   ]
  },
  {
   "cell_type": "markdown",
   "metadata": {},
   "source": [
    "---\n",
    "모델 상태 저장"
   ]
  },
  {
   "cell_type": "code",
   "execution_count": 1,
   "metadata": {},
   "outputs": [],
   "source": [
    "import torch\n",
    "import pandas as pd\n",
    "from torch import nn\n",
    "from torch import optim\n",
    "from torch.utils.data import Dataset, DataLoader\n",
    "\n",
    "\n",
    "class CustomDataset(Dataset):\n",
    "    def __init__(self, file_path):\n",
    "        df = pd.read_csv(file_path)\n",
    "        self.x = df.iloc[:, 0].values\n",
    "        self.y = df.iloc[:, 1].values\n",
    "        self.length = len(df)\n",
    "\n",
    "    def __getitem__(self, index):\n",
    "        x = torch.FloatTensor([self.x[index] ** 2, self.x[index]])\n",
    "        y = torch.FloatTensor([self.y[index]])\n",
    "        return x, y\n",
    "\n",
    "    def __len__(self):\n",
    "        return self.length\n",
    "\n",
    "class CustomModel(nn.Module):\n",
    "    def __init__(self):\n",
    "        super().__init__()\n",
    "        self.layer = nn.Linear(2, 1)\n",
    "\n",
    "    def forward(self, x):\n",
    "        x = self.layer(x)\n",
    "        return x"
   ]
  },
  {
   "cell_type": "code",
   "execution_count": 2,
   "metadata": {},
   "outputs": [],
   "source": [
    "\n",
    "train_dataset = CustomDataset(\"../datasets/non_linear.csv\")\n",
    "train_dataloader = DataLoader(train_dataset, batch_size=128, shuffle=True, drop_last=True)\n",
    "\n",
    "device = \"cuda\" if torch.cuda.is_available() else \"cpu\"\n",
    "model = CustomModel().to(device)\n",
    "criterion = nn.MSELoss().to(device)\n",
    "optimizer = optim.SGD(model.parameters(), lr=0.0001)"
   ]
  },
  {
   "cell_type": "code",
   "execution_count": 3,
   "metadata": {},
   "outputs": [
    {
     "name": "stdout",
     "output_type": "stream",
     "text": [
      "Epoch : 1000, Model : [Parameter containing:\n",
      "tensor([[ 3.0970, -1.7006]], device='cuda:0', requires_grad=True), Parameter containing:\n",
      "tensor([0.6710], device='cuda:0', requires_grad=True)], Cost : 0.092\n",
      "Epoch : 2000, Model : [Parameter containing:\n",
      "tensor([[ 3.0975, -1.7031]], device='cuda:0', requires_grad=True), Parameter containing:\n",
      "tensor([0.6560], device='cuda:0', requires_grad=True)], Cost : 0.081\n",
      "Epoch : 3000, Model : [Parameter containing:\n",
      "tensor([[ 3.0976, -1.7036]], device='cuda:0', requires_grad=True), Parameter containing:\n",
      "tensor([0.6423], device='cuda:0', requires_grad=True)], Cost : 0.085\n",
      "Epoch : 4000, Model : [Parameter containing:\n",
      "tensor([[ 3.0976, -1.7034]], device='cuda:0', requires_grad=True), Parameter containing:\n",
      "tensor([0.6296], device='cuda:0', requires_grad=True)], Cost : 0.077\n",
      "Epoch : 5000, Model : [Parameter containing:\n",
      "tensor([[ 3.0979, -1.7034]], device='cuda:0', requires_grad=True), Parameter containing:\n",
      "tensor([0.6181], device='cuda:0', requires_grad=True)], Cost : 0.080\n",
      "Epoch : 6000, Model : [Parameter containing:\n",
      "tensor([[ 3.0981, -1.7034]], device='cuda:0', requires_grad=True), Parameter containing:\n",
      "tensor([0.6077], device='cuda:0', requires_grad=True)], Cost : 0.090\n",
      "Epoch : 7000, Model : [Parameter containing:\n",
      "tensor([[ 3.0982, -1.7034]], device='cuda:0', requires_grad=True), Parameter containing:\n",
      "tensor([0.5981], device='cuda:0', requires_grad=True)], Cost : 0.084\n",
      "Epoch : 8000, Model : [Parameter containing:\n",
      "tensor([[ 3.0982, -1.7031]], device='cuda:0', requires_grad=True), Parameter containing:\n",
      "tensor([0.5893], device='cuda:0', requires_grad=True)], Cost : 0.074\n",
      "Epoch : 9000, Model : [Parameter containing:\n",
      "tensor([[ 3.0983, -1.7033]], device='cuda:0', requires_grad=True), Parameter containing:\n",
      "tensor([0.5812], device='cuda:0', requires_grad=True)], Cost : 0.084\n",
      "Epoch : 10000, Model : [Parameter containing:\n",
      "tensor([[ 3.0986, -1.7029]], device='cuda:0', requires_grad=True), Parameter containing:\n",
      "tensor([0.5739], device='cuda:0', requires_grad=True)], Cost : 0.080\n"
     ]
    }
   ],
   "source": [
    "\n",
    "for epoch in range(10000):\n",
    "    cost = 0.0\n",
    "\n",
    "    for x, y in train_dataloader:\n",
    "        x = x.to(device)\n",
    "        y = y.to(device)\n",
    "\n",
    "        output = model(x)\n",
    "        loss = criterion(output, y)\n",
    "\n",
    "        optimizer.zero_grad()\n",
    "        loss.backward()\n",
    "        optimizer.step()\n",
    "\n",
    "        cost += loss\n",
    "\n",
    "    cost = cost / len(train_dataloader)\n",
    "\n",
    "    if (epoch + 1) % 1000 == 0:\n",
    "        print(f\"Epoch : {epoch+1:4d}, Model : {list(model.parameters())}, Cost : {cost:.3f}\")"
   ]
  },
  {
   "cell_type": "code",
   "execution_count": 4,
   "metadata": {},
   "outputs": [
    {
     "name": "stdout",
     "output_type": "stream",
     "text": [
      "tensor([[  1.9696],\n",
      "        [ 69.5241],\n",
      "        [356.7714]], device='cuda:0')\n"
     ]
    }
   ],
   "source": [
    "with torch.no_grad():\n",
    "    model.eval()\n",
    "    inputs = torch.FloatTensor(\n",
    "        [\n",
    "            [1 ** 2, 1],\n",
    "            [5 ** 2, 5],\n",
    "            [11 ** 2, 11]\n",
    "        ]\n",
    "    ).to(device)\n",
    "    outputs = model(inputs)\n",
    "    print(outputs)"
   ]
  },
  {
   "cell_type": "code",
   "execution_count": 5,
   "metadata": {},
   "outputs": [],
   "source": [
    "torch.save(\n",
    "    model.state_dict(),\n",
    "    \"../models/model_state_dict.pt\"\n",
    ")\n"
   ]
  },
  {
   "cell_type": "markdown",
   "metadata": {},
   "source": [
    "---\n",
    "모델 상태 불러오기"
   ]
  },
  {
   "cell_type": "code",
   "execution_count": 6,
   "metadata": {},
   "outputs": [
    {
     "data": {
      "text/plain": [
       "<All keys matched successfully>"
      ]
     },
     "execution_count": 6,
     "metadata": {},
     "output_type": "execute_result"
    }
   ],
   "source": [
    "device = \"cuda\" if torch.cuda.is_available() else \"cpu\"\n",
    "model = CustomModel().to(device)\n",
    "\n",
    "model_state_dict = torch.load(\"../models/model_state_dict.pt\", map_location=device)\n",
    "model.load_state_dict(model_state_dict)"
   ]
  },
  {
   "cell_type": "code",
   "execution_count": null,
   "metadata": {},
   "outputs": [],
   "source": [
    "with torch.no_grad():\n",
    "    model.eval()\n",
    "    inputs = torch.FloatTensor(\n",
    "        [\n",
    "            [1 ** 2, 1],\n",
    "            [5 ** 2, 5],\n",
    "            [11 ** 2, 11]\n",
    "        ]\n",
    "    ).to(device)\n",
    "    outputs = model(inputs)\n",
    "print(output)"
   ]
  },
  {
   "cell_type": "code",
   "execution_count": null,
   "metadata": {},
   "outputs": [],
   "source": []
  }
 ],
 "metadata": {
  "kernelspec": {
   "display_name": "Python 3",
   "language": "python",
   "name": "python3"
  },
  "language_info": {
   "codemirror_mode": {
    "name": "ipython",
    "version": 3
   },
   "file_extension": ".py",
   "mimetype": "text/x-python",
   "name": "python",
   "nbconvert_exporter": "python",
   "pygments_lexer": "ipython3",
   "version": "3.10.16"
  }
 },
 "nbformat": 4,
 "nbformat_minor": 2
}
