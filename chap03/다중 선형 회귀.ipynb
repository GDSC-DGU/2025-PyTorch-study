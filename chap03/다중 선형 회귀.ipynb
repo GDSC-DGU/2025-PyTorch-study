{
 "cells": [
  {
   "cell_type": "markdown",
   "metadata": {},
   "source": [
    "---\n",
    "기본 구조 선언"
   ]
  },
  {
   "cell_type": "code",
   "execution_count": 1,
   "metadata": {},
   "outputs": [],
   "source": [
    "import torch\n",
    "from torch import nn\n",
    "from torch import optim\n",
    "from torch.utils.data import TensorDataset, DataLoader \n",
    "\n",
    "\n",
    "train_x = torch.FloatTensor([\n",
    "    [1, 2], [2, 3], [3, 4], [4, 5], [5, 6], [6, 7]\n",
    "])\n",
    "train_y = torch.FloatTensor([\n",
    "    [0.1, 1.5], [1, 2.8], [1.9, 4.1], [2.8, 5.4], [3.7, 6.7], [4.6, 8]\n",
    "])"
   ]
  },
  {
   "cell_type": "markdown",
   "metadata": {},
   "source": [
    "---\n",
    "데이터세트, 데이터로더 선언"
   ]
  },
  {
   "cell_type": "code",
   "execution_count": 2,
   "metadata": {},
   "outputs": [],
   "source": [
    "train_dataset = TensorDataset(train_x, train_y)\n",
    "train_dataloader = DataLoader(train_dataset, batch_size=2, shuffle=True, drop_last=True)"
   ]
  },
  {
   "cell_type": "markdown",
   "metadata": {},
   "source": [
    "---\n",
    "모델, 오차함수, optimizer 선언"
   ]
  },
  {
   "cell_type": "code",
   "execution_count": 3,
   "metadata": {},
   "outputs": [],
   "source": [
    "model = nn.Linear(2, 2, bias=True)\n",
    "criterion = nn.MSELoss()\n",
    "optimizer = optim.SGD(model.parameters(), lr=0.001)"
   ]
  },
  {
   "cell_type": "markdown",
   "metadata": {},
   "source": [
    "---\n",
    "학습"
   ]
  },
  {
   "cell_type": "code",
   "execution_count": 4,
   "metadata": {},
   "outputs": [
    {
     "name": "stdout",
     "output_type": "stream",
     "text": [
      "Epoch : 1000, Model : [Parameter containing:\n",
      "tensor([[0.1948, 0.5150],\n",
      "        [1.0149, 0.2495]], requires_grad=True), Parameter containing:\n",
      "tensor([-0.5127,  0.1006], requires_grad=True)], Cost : 0.065\n",
      "Epoch : 2000, Model : [Parameter containing:\n",
      "tensor([[0.3881, 0.4148],\n",
      "        [1.0510, 0.2308]], requires_grad=True), Parameter containing:\n",
      "tensor([-0.8062,  0.0457], requires_grad=True)], Cost : 0.017\n",
      "Epoch : 3000, Model : [Parameter containing:\n",
      "tensor([[0.4867, 0.3639],\n",
      "        [1.0695, 0.2213]], requires_grad=True), Parameter containing:\n",
      "tensor([-0.9557,  0.0177], requires_grad=True)], Cost : 0.004\n",
      "Epoch : 4000, Model : [Parameter containing:\n",
      "tensor([[0.5369, 0.3379],\n",
      "        [1.0789, 0.2164]], requires_grad=True), Parameter containing:\n",
      "tensor([-1.0319,  0.0034], requires_grad=True)], Cost : 0.001\n",
      "Epoch : 5000, Model : [Parameter containing:\n",
      "tensor([[0.5624, 0.3247],\n",
      "        [1.0837, 0.2139]], requires_grad=True), Parameter containing:\n",
      "tensor([-1.0707, -0.0038], requires_grad=True)], Cost : 0.000\n",
      "Epoch : 6000, Model : [Parameter containing:\n",
      "tensor([[0.5755, 0.3180],\n",
      "        [1.0861, 0.2127]], requires_grad=True), Parameter containing:\n",
      "tensor([-1.0904, -0.0075], requires_grad=True)], Cost : 0.000\n",
      "Epoch : 7000, Model : [Parameter containing:\n",
      "tensor([[0.5821, 0.3145],\n",
      "        [1.0874, 0.2120]], requires_grad=True), Parameter containing:\n",
      "tensor([-1.1005, -0.0094], requires_grad=True)], Cost : 0.000\n",
      "Epoch : 8000, Model : [Parameter containing:\n",
      "tensor([[0.5855, 0.3128],\n",
      "        [1.0880, 0.2117]], requires_grad=True), Parameter containing:\n",
      "tensor([-1.1056, -0.0104], requires_grad=True)], Cost : 0.000\n",
      "Epoch : 9000, Model : [Parameter containing:\n",
      "tensor([[0.5872, 0.3119],\n",
      "        [1.0883, 0.2115]], requires_grad=True), Parameter containing:\n",
      "tensor([-1.1083, -0.0108], requires_grad=True)], Cost : 0.000\n",
      "Epoch : 10000, Model : [Parameter containing:\n",
      "tensor([[0.5881, 0.3114],\n",
      "        [1.0885, 0.2114]], requires_grad=True), Parameter containing:\n",
      "tensor([-1.1096, -0.0111], requires_grad=True)], Cost : 0.000\n",
      "Epoch : 11000, Model : [Parameter containing:\n",
      "tensor([[0.5886, 0.3112],\n",
      "        [1.0886, 0.2114]], requires_grad=True), Parameter containing:\n",
      "tensor([-1.1103, -0.0112], requires_grad=True)], Cost : 0.000\n",
      "Epoch : 12000, Model : [Parameter containing:\n",
      "tensor([[0.5888, 0.3111],\n",
      "        [1.0886, 0.2114]], requires_grad=True), Parameter containing:\n",
      "tensor([-1.1106, -0.0113], requires_grad=True)], Cost : 0.000\n",
      "Epoch : 13000, Model : [Parameter containing:\n",
      "tensor([[0.5889, 0.3110],\n",
      "        [1.0886, 0.2114]], requires_grad=True), Parameter containing:\n",
      "tensor([-1.1108, -0.0113], requires_grad=True)], Cost : 0.000\n",
      "Epoch : 14000, Model : [Parameter containing:\n",
      "tensor([[0.5890, 0.3110],\n",
      "        [1.0886, 0.2114]], requires_grad=True), Parameter containing:\n",
      "tensor([-1.1109, -0.0113], requires_grad=True)], Cost : 0.000\n",
      "Epoch : 15000, Model : [Parameter containing:\n",
      "tensor([[0.5890, 0.3110],\n",
      "        [1.0886, 0.2114]], requires_grad=True), Parameter containing:\n",
      "tensor([-1.1109, -0.0114], requires_grad=True)], Cost : 0.000\n",
      "Epoch : 16000, Model : [Parameter containing:\n",
      "tensor([[0.5890, 0.3110],\n",
      "        [1.0886, 0.2114]], requires_grad=True), Parameter containing:\n",
      "tensor([-1.1109, -0.0114], requires_grad=True)], Cost : 0.000\n",
      "Epoch : 17000, Model : [Parameter containing:\n",
      "tensor([[0.5890, 0.3110],\n",
      "        [1.0886, 0.2114]], requires_grad=True), Parameter containing:\n",
      "tensor([-1.1109, -0.0114], requires_grad=True)], Cost : 0.000\n",
      "Epoch : 18000, Model : [Parameter containing:\n",
      "tensor([[0.5890, 0.3110],\n",
      "        [1.0886, 0.2114]], requires_grad=True), Parameter containing:\n",
      "tensor([-1.1109, -0.0114], requires_grad=True)], Cost : 0.000\n",
      "Epoch : 19000, Model : [Parameter containing:\n",
      "tensor([[0.5890, 0.3110],\n",
      "        [1.0886, 0.2114]], requires_grad=True), Parameter containing:\n",
      "tensor([-1.1109, -0.0114], requires_grad=True)], Cost : 0.000\n",
      "Epoch : 20000, Model : [Parameter containing:\n",
      "tensor([[0.5890, 0.3110],\n",
      "        [1.0886, 0.2114]], requires_grad=True), Parameter containing:\n",
      "tensor([-1.1109, -0.0114], requires_grad=True)], Cost : 0.000\n"
     ]
    }
   ],
   "source": [
    "for epoch in range(20000):\n",
    "    cost = 0.0\n",
    "    \n",
    "    for batch in train_dataloader:\n",
    "        x, y = batch\n",
    "        output = model(x)\n",
    "        \n",
    "        loss = criterion(output, y)\n",
    "        \n",
    "        optimizer.zero_grad()\n",
    "        loss.backward()\n",
    "        optimizer.step()\n",
    "        \n",
    "        cost += loss\n",
    "\n",
    "    cost = cost / len(train_dataloader)\n",
    "    \n",
    "    if (epoch + 1) % 1000 == 0:\n",
    "        print(f\"Epoch : {epoch+1:4d}, Model : {list(model.parameters())}, Cost : {cost:.3f}\")"
   ]
  },
  {
   "cell_type": "markdown",
   "metadata": {},
   "source": [
    "---\n",
    "편향 제거(bias 제거인듯)"
   ]
  },
  {
   "cell_type": "code",
   "execution_count": 5,
   "metadata": {},
   "outputs": [],
   "source": [
    "model = nn.Linear(2, 2, bias=False)\n",
    "criterion = nn.MSELoss()\n",
    "optimizer = optim.SGD(model.parameters(), lr=0.001)"
   ]
  },
  {
   "cell_type": "code",
   "execution_count": 6,
   "metadata": {},
   "outputs": [
    {
     "name": "stdout",
     "output_type": "stream",
     "text": [
      "Epoch : 1000, Model : [Parameter containing:\n",
      "tensor([[0.4826, 0.1844],\n",
      "        [0.9041, 0.3584]], requires_grad=True)], Cost : 0.096\n",
      "Epoch : 2000, Model : [Parameter containing:\n",
      "tensor([[ 0.7326, -0.0175],\n",
      "        [ 0.9443,  0.3259]], requires_grad=True)], Cost : 0.062\n",
      "Epoch : 3000, Model : [Parameter containing:\n",
      "tensor([[ 0.9311, -0.1782],\n",
      "        [ 0.9762,  0.3001]], requires_grad=True)], Cost : 0.039\n",
      "Epoch : 4000, Model : [Parameter containing:\n",
      "tensor([[ 1.0889, -0.3058],\n",
      "        [ 1.0016,  0.2795]], requires_grad=True)], Cost : 0.024\n",
      "Epoch : 5000, Model : [Parameter containing:\n",
      "tensor([[ 1.2143, -0.4072],\n",
      "        [ 1.0218,  0.2632]], requires_grad=True)], Cost : 0.016\n",
      "Epoch : 6000, Model : [Parameter containing:\n",
      "tensor([[ 1.3140, -0.4878],\n",
      "        [ 1.0379,  0.2502]], requires_grad=True)], Cost : 0.010\n",
      "Epoch : 7000, Model : [Parameter containing:\n",
      "tensor([[ 1.3932, -0.5519],\n",
      "        [ 1.0506,  0.2399]], requires_grad=True)], Cost : 0.006\n",
      "Epoch : 8000, Model : [Parameter containing:\n",
      "tensor([[ 1.4562, -0.6028],\n",
      "        [ 1.0608,  0.2317]], requires_grad=True)], Cost : 0.004\n",
      "Epoch : 9000, Model : [Parameter containing:\n",
      "tensor([[ 1.5062, -0.6433],\n",
      "        [ 1.0688,  0.2252]], requires_grad=True)], Cost : 0.002\n",
      "Epoch : 10000, Model : [Parameter containing:\n",
      "tensor([[ 1.5460, -0.6755],\n",
      "        [ 1.0752,  0.2200]], requires_grad=True)], Cost : 0.002\n",
      "Epoch : 11000, Model : [Parameter containing:\n",
      "tensor([[ 1.5776, -0.7010],\n",
      "        [ 1.0803,  0.2159]], requires_grad=True)], Cost : 0.001\n",
      "Epoch : 12000, Model : [Parameter containing:\n",
      "tensor([[ 1.6027, -0.7214],\n",
      "        [ 1.0843,  0.2127]], requires_grad=True)], Cost : 0.001\n",
      "Epoch : 13000, Model : [Parameter containing:\n",
      "tensor([[ 1.6227, -0.7375],\n",
      "        [ 1.0876,  0.2101]], requires_grad=True)], Cost : 0.000\n",
      "Epoch : 14000, Model : [Parameter containing:\n",
      "tensor([[ 1.6386, -0.7503],\n",
      "        [ 1.0901,  0.2080]], requires_grad=True)], Cost : 0.000\n",
      "Epoch : 15000, Model : [Parameter containing:\n",
      "tensor([[ 1.6512, -0.7605],\n",
      "        [ 1.0921,  0.2064]], requires_grad=True)], Cost : 0.000\n",
      "Epoch : 16000, Model : [Parameter containing:\n",
      "tensor([[ 1.6612, -0.7686],\n",
      "        [ 1.0938,  0.2050]], requires_grad=True)], Cost : 0.000\n",
      "Epoch : 17000, Model : [Parameter containing:\n",
      "tensor([[ 1.6692, -0.7751],\n",
      "        [ 1.0950,  0.2040]], requires_grad=True)], Cost : 0.000\n",
      "Epoch : 18000, Model : [Parameter containing:\n",
      "tensor([[ 1.6755, -0.7802],\n",
      "        [ 1.0961,  0.2032]], requires_grad=True)], Cost : 0.000\n",
      "Epoch : 19000, Model : [Parameter containing:\n",
      "tensor([[ 1.6805, -0.7842],\n",
      "        [ 1.0969,  0.2025]], requires_grad=True)], Cost : 0.000\n",
      "Epoch : 20000, Model : [Parameter containing:\n",
      "tensor([[ 1.6845, -0.7875],\n",
      "        [ 1.0975,  0.2020]], requires_grad=True)], Cost : 0.000\n"
     ]
    }
   ],
   "source": [
    "for epoch in range(20000):\n",
    "    cost = 0.0\n",
    "    \n",
    "    for batch in train_dataloader:\n",
    "        x, y = batch\n",
    "        output = model(x)\n",
    "        \n",
    "        loss = criterion(output, y)\n",
    "        \n",
    "        optimizer.zero_grad()\n",
    "        loss.backward()\n",
    "        optimizer.step()\n",
    "        \n",
    "        cost += loss\n",
    "\n",
    "    cost = cost / len(train_dataloader)\n",
    "    \n",
    "    if (epoch + 1) % 1000 == 0:\n",
    "        print(f\"Epoch : {epoch+1:4d}, Model : {list(model.parameters())}, Cost : {cost:.3f}\")"
   ]
  },
  {
   "cell_type": "code",
   "execution_count": null,
   "metadata": {},
   "outputs": [],
   "source": []
  }
 ],
 "metadata": {
  "kernelspec": {
   "display_name": "pytorch_study",
   "language": "python",
   "name": "python3"
  },
  "language_info": {
   "codemirror_mode": {
    "name": "ipython",
    "version": 3
   },
   "file_extension": ".py",
   "mimetype": "text/x-python",
   "name": "python",
   "nbconvert_exporter": "python",
   "pygments_lexer": "ipython3",
   "version": "3.10.16"
  }
 },
 "nbformat": 4,
 "nbformat_minor": 2
}
