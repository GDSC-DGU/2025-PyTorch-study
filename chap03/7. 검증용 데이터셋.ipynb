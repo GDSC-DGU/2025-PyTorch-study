{
 "cells": [
  {
   "cell_type": "code",
   "execution_count": 1,
   "metadata": {},
   "outputs": [],
   "source": [
    "import torch\n",
    "import pandas as pd\n",
    "from torch import nn\n",
    "from torch import optim\n",
    "from torch.utils.data import Dataset, DataLoader, random_split"
   ]
  },
  {
   "cell_type": "code",
   "execution_count": 2,
   "metadata": {},
   "outputs": [],
   "source": [
    "class CustomDataset(Dataset):\n",
    "    def __init__(self, file_path):\n",
    "        df = pd.read_csv(file_path)\n",
    "        self.x = df.iloc[:, 0].values\n",
    "        self.y = df.iloc[:, 1].values\n",
    "        self.length = len(df)\n",
    "\n",
    "    def __getitem__(self, index):\n",
    "        x = torch.FloatTensor([self.x[index] ** 2, self.x[index]])\n",
    "        y = torch.FloatTensor([self.y[index]])\n",
    "        return x, y\n",
    "\n",
    "    def __len__(self):\n",
    "        return self.length"
   ]
  },
  {
   "cell_type": "code",
   "execution_count": 3,
   "metadata": {},
   "outputs": [],
   "source": [
    "class CustomModel(nn.Module):\n",
    "    def __init__(self):\n",
    "        super().__init__()\n",
    "        self.layer = nn.Linear(2, 1)\n",
    "\n",
    "    def forward(self, x):\n",
    "        x = self.layer(x)\n",
    "        return x"
   ]
  },
  {
   "cell_type": "code",
   "execution_count": 4,
   "metadata": {},
   "outputs": [
    {
     "name": "stdout",
     "output_type": "stream",
     "text": [
      "Training Data Size : 160\n",
      "Validation Data Size : 20\n",
      "Testing Data Size : 20\n"
     ]
    }
   ],
   "source": [
    "dataset = CustomDataset(\"../datasets/non_linear.csv\")\n",
    "dataset_size = len(dataset)\n",
    "train_size = int(dataset_size * 0.8)\n",
    "validation_size = int(dataset_size * 0.1)\n",
    "test_size = dataset_size - train_size - validation_size\n",
    "\n",
    "train_dataset, validation_dataset, test_dataset = random_split(dataset, [train_size, validation_size, test_size])\n",
    "print(f\"Training Data Size : {len(train_dataset)}\")\n",
    "print(f\"Validation Data Size : {len(validation_dataset)}\")\n",
    "print(f\"Testing Data Size : {len(test_dataset)}\")\n",
    "\n",
    "train_dataloader = DataLoader(train_dataset, batch_size=16, shuffle=True, drop_last=True)\n",
    "validation_dataloader = DataLoader(validation_dataset, batch_size=4, shuffle=True, drop_last=True)\n",
    "test_dataloader = DataLoader(test_dataset, batch_size=4, shuffle=True, drop_last=True)"
   ]
  },
  {
   "cell_type": "code",
   "execution_count": 5,
   "metadata": {},
   "outputs": [],
   "source": [
    "device = \"cuda\" if torch.cuda.is_available() else \"cpu\"\n",
    "model = CustomModel().to(device)\n",
    "criterion = nn.MSELoss().to(device)\n",
    "optimizer = optim.SGD(model.parameters(), lr=0.0001)"
   ]
  },
  {
   "cell_type": "code",
   "execution_count": 6,
   "metadata": {},
   "outputs": [
    {
     "name": "stdout",
     "output_type": "stream",
     "text": [
      "Epoch : 1000, Model : [Parameter containing:\n",
      "tensor([[ 3.0993, -1.6991]], device='cuda:0', requires_grad=True), Parameter containing:\n",
      "tensor([0.5413], device='cuda:0', requires_grad=True)], Cost : 0.078\n",
      "Epoch : 2000, Model : [Parameter containing:\n",
      "tensor([[ 3.0989, -1.6994]], device='cuda:0', requires_grad=True), Parameter containing:\n",
      "tensor([0.5122], device='cuda:0', requires_grad=True)], Cost : 0.078\n",
      "Epoch : 3000, Model : [Parameter containing:\n",
      "tensor([[ 3.1003, -1.6992]], device='cuda:0', requires_grad=True), Parameter containing:\n",
      "tensor([0.5000], device='cuda:0', requires_grad=True)], Cost : 0.081\n",
      "Epoch : 4000, Model : [Parameter containing:\n",
      "tensor([[ 3.1003, -1.6994]], device='cuda:0', requires_grad=True), Parameter containing:\n",
      "tensor([0.4947], device='cuda:0', requires_grad=True)], Cost : 0.077\n",
      "Epoch : 5000, Model : [Parameter containing:\n",
      "tensor([[ 3.1010, -1.6992]], device='cuda:0', requires_grad=True), Parameter containing:\n",
      "tensor([0.4925], device='cuda:0', requires_grad=True)], Cost : 0.077\n",
      "Epoch : 6000, Model : [Parameter containing:\n",
      "tensor([[ 3.0994, -1.6993]], device='cuda:0', requires_grad=True), Parameter containing:\n",
      "tensor([0.4915], device='cuda:0', requires_grad=True)], Cost : 0.077\n",
      "Epoch : 7000, Model : [Parameter containing:\n",
      "tensor([[ 3.0986, -1.6993]], device='cuda:0', requires_grad=True), Parameter containing:\n",
      "tensor([0.4912], device='cuda:0', requires_grad=True)], Cost : 0.078\n",
      "Epoch : 8000, Model : [Parameter containing:\n",
      "tensor([[ 3.0999, -1.6993]], device='cuda:0', requires_grad=True), Parameter containing:\n",
      "tensor([0.4910], device='cuda:0', requires_grad=True)], Cost : 0.080\n",
      "Epoch : 9000, Model : [Parameter containing:\n",
      "tensor([[ 3.1002, -1.6994]], device='cuda:0', requires_grad=True), Parameter containing:\n",
      "tensor([0.4909], device='cuda:0', requires_grad=True)], Cost : 0.077\n",
      "Epoch : 10000, Model : [Parameter containing:\n",
      "tensor([[ 3.1001, -1.6991]], device='cuda:0', requires_grad=True), Parameter containing:\n",
      "tensor([0.4909], device='cuda:0', requires_grad=True)], Cost : 0.078\n"
     ]
    }
   ],
   "source": [
    "for epoch in range(10000):\n",
    "    cost = 0.0\n",
    "\n",
    "    for x, y in train_dataloader:\n",
    "        x = x.to(device)\n",
    "        y = y.to(device)\n",
    "\n",
    "        output = model(x)\n",
    "        loss = criterion(output, y)\n",
    "\n",
    "        optimizer.zero_grad()\n",
    "        loss.backward()\n",
    "        optimizer.step()\n",
    "\n",
    "        cost += loss\n",
    "\n",
    "    cost = cost / len(train_dataloader)\n",
    "\n",
    "    if (epoch + 1) % 1000 == 0:\n",
    "        print(f\"Epoch : {epoch+1:4d}, Model : {list(model.parameters())}, Cost : {cost:.3f}\")"
   ]
  },
  {
   "cell_type": "code",
   "execution_count": 7,
   "metadata": {},
   "outputs": [
    {
     "name": "stdout",
     "output_type": "stream",
     "text": [
      "X : tensor([[10.8900,  3.3000],\n",
      "        [25.0000, -5.0000],\n",
      "        [ 0.4900,  0.7000],\n",
      "        [31.3600,  5.6000]], device='cuda:0')\n",
      "Y : tensor([[28.5400],\n",
      "        [86.2900],\n",
      "        [ 0.8600],\n",
      "        [88.2700]], device='cuda:0')\n",
      "Outputs : tensor([[28.6433],\n",
      "        [86.4880],\n",
      "        [ 0.8206],\n",
      "        [88.1934]], device='cuda:0')\n",
      "--------------------\n",
      "X : tensor([[11.5600, -3.4000],\n",
      "        [53.2900,  7.3000],\n",
      "        [ 1.4400,  1.2000],\n",
      "        [17.6400, -4.2000]], device='cuda:0')\n",
      "Y : tensor([[ 42.4700],\n",
      "        [152.8700],\n",
      "        [  2.8300],\n",
      "        [ 62.6700]], device='cuda:0')\n",
      "Outputs : tensor([[ 42.1047],\n",
      "        [153.2890],\n",
      "        [  2.9160],\n",
      "        [ 62.3123]], device='cuda:0')\n",
      "--------------------\n",
      "X : tensor([[ 1.2100,  1.1000],\n",
      "        [13.6900, -3.7000],\n",
      "        [27.0400,  5.2000],\n",
      "        [34.8100, -5.9000]], device='cuda:0')\n",
      "Y : tensor([[  2.7600],\n",
      "        [ 49.6900],\n",
      "        [ 75.1200],\n",
      "        [118.7100]], device='cuda:0')\n",
      "Outputs : tensor([[  2.3729],\n",
      "        [ 49.2175],\n",
      "        [ 75.4808],\n",
      "        [118.4288]], device='cuda:0')\n",
      "--------------------\n",
      "X : tensor([[65.6100,  8.1000],\n",
      "        [34.8100,  5.9000],\n",
      "        [ 3.6100, -1.9000],\n",
      "        [72.2500,  8.5000]], device='cuda:0')\n",
      "Y : tensor([[189.6500],\n",
      "        [ 98.1300],\n",
      "        [ 15.2300],\n",
      "        [209.6100]], device='cuda:0')\n",
      "Outputs : tensor([[190.1224],\n",
      "        [ 98.3789],\n",
      "        [ 14.9105],\n",
      "        [210.0271]], device='cuda:0')\n",
      "--------------------\n",
      "X : tensor([[90.2500,  9.5000],\n",
      "        [10.2400,  3.2000],\n",
      "        [18.4900,  4.3000],\n",
      "        [70.5600, -8.4000]], device='cuda:0')\n",
      "Y : tensor([[263.8000],\n",
      "        [ 26.8400],\n",
      "        [ 50.0800],\n",
      "        [233.6700]], device='cuda:0')\n",
      "Outputs : tensor([[264.1289],\n",
      "        [ 26.7982],\n",
      "        [ 50.5046],\n",
      "        [233.5036]], device='cuda:0')\n",
      "--------------------\n"
     ]
    }
   ],
   "source": [
    "with torch.no_grad():\n",
    "    model.eval()\n",
    "    for x, y in validation_dataloader:\n",
    "        x = x.to(device)\n",
    "        y = y.to(device)\n",
    "        \n",
    "        outputs = model(x)\n",
    "        print(f\"X : {x}\")\n",
    "        print(f\"Y : {y}\")\n",
    "        print(f\"Outputs : {outputs}\")\n",
    "        print(\"--------------------\")"
   ]
  },
  {
   "cell_type": "code",
   "execution_count": null,
   "metadata": {},
   "outputs": [],
   "source": []
  }
 ],
 "metadata": {
  "kernelspec": {
   "display_name": "Python 3",
   "language": "python",
   "name": "python3"
  },
  "language_info": {
   "codemirror_mode": {
    "name": "ipython",
    "version": 3
   },
   "file_extension": ".py",
   "mimetype": "text/x-python",
   "name": "python",
   "nbconvert_exporter": "python",
   "pygments_lexer": "ipython3",
   "version": "3.10.16"
  }
 },
 "nbformat": 4,
 "nbformat_minor": 2
}
